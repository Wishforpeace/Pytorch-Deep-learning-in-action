{
 "cells": [
  {
   "cell_type": "markdown",
   "source": [
    "# 05 | Tensor变形记：快速掌握Tensor切分、变形等方法"
   ],
   "metadata": {
    "collapsed": false
   }
  },
  {
   "cell_type": "markdown",
   "source": [
    "## cat操作"
   ],
   "metadata": {
    "collapsed": false
   }
  },
  {
   "cell_type": "markdown",
   "source": [
    "![image-20230905191605543](https://cdn.jsdelivr.net/gh/Hyeonwuu/Image/image-20230905191605543.png)"
   ],
   "metadata": {
    "collapsed": false
   }
  },
  {
   "cell_type": "code",
   "execution_count": 2,
   "outputs": [
    {
     "name": "stdout",
     "output_type": "stream",
     "text": [
      "tensor([[1., 1., 1.],\n",
      "        [1., 1., 1.],\n",
      "        [1., 1., 1.]])\n",
      "tensor([[2., 2., 2.],\n",
      "        [2., 2., 2.],\n",
      "        [2., 2., 2.]])\n"
     ]
    }
   ],
   "source": [
    "import torch\n",
    "\n",
    "A = torch.ones(3,3)\n",
    "B = 2*torch.ones(3,3)\n",
    "print(A)\n",
    "print(B)"
   ],
   "metadata": {
    "collapsed": false,
    "ExecuteTime": {
     "end_time": "2023-09-05T11:17:46.743993Z",
     "start_time": "2023-09-05T11:17:45.829799Z"
    }
   }
  },
  {
   "cell_type": "code",
   "execution_count": 3,
   "outputs": [
    {
     "name": "stdout",
     "output_type": "stream",
     "text": [
      "tensor([[1., 1., 1.],\n",
      "        [1., 1., 1.],\n",
      "        [1., 1., 1.],\n",
      "        [2., 2., 2.],\n",
      "        [2., 2., 2.],\n",
      "        [2., 2., 2.]])\n"
     ]
    }
   ],
   "source": [
    "C = torch.cat((A,B),0)\n",
    "print(C)"
   ],
   "metadata": {
    "collapsed": false,
    "ExecuteTime": {
     "end_time": "2023-09-05T11:18:09.801497Z",
     "start_time": "2023-09-05T11:18:09.795686Z"
    }
   }
  },
  {
   "cell_type": "code",
   "execution_count": 4,
   "outputs": [
    {
     "name": "stdout",
     "output_type": "stream",
     "text": [
      "tensor([[1., 1., 1., 2., 2., 2.],\n",
      "        [1., 1., 1., 2., 2., 2.],\n",
      "        [1., 1., 1., 2., 2., 2.]])\n"
     ]
    }
   ],
   "source": [
    "D = torch.cat((A,B),1)\n",
    "print(D)"
   ],
   "metadata": {
    "collapsed": false,
    "ExecuteTime": {
     "end_time": "2023-09-05T11:25:41.615826Z",
     "start_time": "2023-09-05T11:25:41.611092Z"
    }
   }
  },
  {
   "cell_type": "markdown",
   "source": [
    "### 增加新的维度连接"
   ],
   "metadata": {
    "collapsed": false
   }
  },
  {
   "cell_type": "code",
   "execution_count": 5,
   "outputs": [
    {
     "data": {
      "text/plain": "tensor([0, 1, 2, 3])"
     },
     "execution_count": 5,
     "metadata": {},
     "output_type": "execute_result"
    }
   ],
   "source": [
    "A = torch.arange(0,4)\n",
    "A"
   ],
   "metadata": {
    "collapsed": false,
    "ExecuteTime": {
     "end_time": "2023-09-05T11:26:52.560473Z",
     "start_time": "2023-09-05T11:26:52.555907Z"
    }
   }
  },
  {
   "cell_type": "code",
   "execution_count": 15,
   "outputs": [
    {
     "data": {
      "text/plain": "tensor([5, 6, 7, 8])"
     },
     "execution_count": 15,
     "metadata": {},
     "output_type": "execute_result"
    }
   ],
   "source": [
    "B = torch.arange(5,9)\n",
    "B"
   ],
   "metadata": {
    "collapsed": false,
    "ExecuteTime": {
     "end_time": "2023-09-05T11:29:47.776061Z",
     "start_time": "2023-09-05T11:29:47.773268Z"
    }
   }
  },
  {
   "cell_type": "code",
   "execution_count": 13,
   "outputs": [
    {
     "data": {
      "text/plain": "torch.Size([2, 4])"
     },
     "execution_count": 13,
     "metadata": {},
     "output_type": "execute_result"
    }
   ],
   "source": [
    "C = torch.stack((A,B),0)\n",
    "C"
   ],
   "metadata": {
    "collapsed": false,
    "ExecuteTime": {
     "end_time": "2023-09-05T11:29:32.899769Z",
     "start_time": "2023-09-05T11:29:32.894906Z"
    }
   }
  },
  {
   "cell_type": "code",
   "execution_count": 12,
   "outputs": [
    {
     "data": {
      "text/plain": "tensor([[0, 5],\n        [1, 6],\n        [2, 7],\n        [3, 8]])"
     },
     "execution_count": 12,
     "metadata": {},
     "output_type": "execute_result"
    }
   ],
   "source": [
    "D = torch.stack((A,B),1)\n",
    "D"
   ],
   "metadata": {
    "collapsed": false,
    "ExecuteTime": {
     "end_time": "2023-09-05T11:29:23.942783Z",
     "start_time": "2023-09-05T11:29:23.936975Z"
    }
   }
  },
  {
   "cell_type": "markdown",
   "source": [
    "### Tensor的切分操作"
   ],
   "metadata": {
    "collapsed": false
   }
  },
  {
   "cell_type": "code",
   "execution_count": 16,
   "outputs": [
    {
     "data": {
      "text/plain": "(tensor([1, 2, 3, 4, 5]), tensor([ 6,  7,  8,  9, 10]))"
     },
     "execution_count": 16,
     "metadata": {},
     "output_type": "execute_result"
    }
   ],
   "source": [
    "A = torch.tensor([1,2,3,4,5,6,7,8,9,10])\n",
    "B = torch.chunk(A,2,0)\n",
    "B"
   ],
   "metadata": {
    "collapsed": false,
    "ExecuteTime": {
     "end_time": "2023-09-05T11:36:08.306047Z",
     "start_time": "2023-09-05T11:36:08.301026Z"
    }
   }
  },
  {
   "cell_type": "code",
   "execution_count": 18,
   "outputs": [
    {
     "data": {
      "text/plain": "(tensor([1, 2, 3, 4]), tensor([5, 6, 7, 8]), tensor([ 9, 10]))"
     },
     "execution_count": 18,
     "metadata": {},
     "output_type": "execute_result"
    }
   ],
   "source": [
    "B = torch.chunk(A,3,0)\n",
    "B"
   ],
   "metadata": {
    "collapsed": false,
    "ExecuteTime": {
     "end_time": "2023-09-05T11:37:12.612819Z",
     "start_time": "2023-09-05T11:37:12.609827Z"
    }
   }
  },
  {
   "cell_type": "code",
   "execution_count": 19,
   "outputs": [
    {
     "data": {
      "text/plain": "(tensor([1, 2, 3, 4, 5]),\n tensor([ 6,  7,  8,  9, 10]),\n tensor([11, 12, 13, 14, 15]),\n tensor([16, 17]))"
     },
     "execution_count": 19,
     "metadata": {},
     "output_type": "execute_result"
    }
   ],
   "source": [
    "A = torch.tensor([1,2,3,4,5,6,7,8,9,10,11,12,13,14,15,16,17])\n",
    "B = torch.chunk(A,4,0)\n",
    "B"
   ],
   "metadata": {
    "collapsed": false,
    "ExecuteTime": {
     "end_time": "2023-09-05T11:37:44.404778Z",
     "start_time": "2023-09-05T11:37:44.399286Z"
    }
   }
  },
  {
   "cell_type": "code",
   "execution_count": 20,
   "outputs": [
    {
     "data": {
      "text/plain": "tensor([[1., 1., 1., 1.],\n        [1., 1., 1., 1.],\n        [1., 1., 1., 1.],\n        [1., 1., 1., 1.]])"
     },
     "execution_count": 20,
     "metadata": {},
     "output_type": "execute_result"
    }
   ],
   "source": [
    "A = torch.ones(4,4)\n",
    "A"
   ],
   "metadata": {
    "collapsed": false,
    "ExecuteTime": {
     "end_time": "2023-09-05T11:38:56.659613Z",
     "start_time": "2023-09-05T11:38:56.654267Z"
    }
   }
  },
  {
   "cell_type": "code",
   "execution_count": 23,
   "outputs": [
    {
     "data": {
      "text/plain": "(tensor([[1., 1., 1., 1.],\n         [1., 1., 1., 1.]]),\n tensor([[1., 1., 1., 1.],\n         [1., 1., 1., 1.]]))"
     },
     "execution_count": 23,
     "metadata": {},
     "output_type": "execute_result"
    }
   ],
   "source": [
    "B = torch.chunk(A,2,0)\n",
    "B"
   ],
   "metadata": {
    "collapsed": false,
    "ExecuteTime": {
     "end_time": "2023-09-05T11:39:32.769643Z",
     "start_time": "2023-09-05T11:39:32.765850Z"
    }
   }
  },
  {
   "cell_type": "code",
   "execution_count": 24,
   "outputs": [
    {
     "data": {
      "text/plain": "tensor([[0.8562, 0.9650, 0.2739, 0.3332],\n        [0.7022, 0.4512, 0.0334, 0.7212],\n        [0.7094, 0.8709, 0.7553, 0.2990],\n        [0.4037, 0.4617, 0.0634, 0.9566]])"
     },
     "execution_count": 24,
     "metadata": {},
     "output_type": "execute_result"
    }
   ],
   "source": [
    "A = torch.rand(4,4)\n",
    "A"
   ],
   "metadata": {
    "collapsed": false,
    "ExecuteTime": {
     "end_time": "2023-09-05T11:39:53.020836Z",
     "start_time": "2023-09-05T11:39:53.014969Z"
    }
   }
  },
  {
   "cell_type": "code",
   "execution_count": 25,
   "outputs": [
    {
     "data": {
      "text/plain": "(tensor([[0.8562, 0.9650, 0.2739, 0.3332],\n         [0.7022, 0.4512, 0.0334, 0.7212]]),\n tensor([[0.7094, 0.8709, 0.7553, 0.2990],\n         [0.4037, 0.4617, 0.0634, 0.9566]]))"
     },
     "execution_count": 25,
     "metadata": {},
     "output_type": "execute_result"
    }
   ],
   "source": [
    "B = torch.split(A,2,0)\n",
    "B"
   ],
   "metadata": {
    "collapsed": false,
    "ExecuteTime": {
     "end_time": "2023-09-05T11:40:05.133834Z",
     "start_time": "2023-09-05T11:40:05.128763Z"
    }
   }
  },
  {
   "cell_type": "code",
   "execution_count": 27,
   "outputs": [
    {
     "data": {
      "text/plain": "(tensor([[0.8562, 0.9650, 0.2739, 0.3332],\n         [0.7022, 0.4512, 0.0334, 0.7212],\n         [0.7094, 0.8709, 0.7553, 0.2990]]),\n tensor([[0.4037, 0.4617, 0.0634, 0.9566]]))"
     },
     "execution_count": 27,
     "metadata": {},
     "output_type": "execute_result"
    }
   ],
   "source": [
    "C = torch.split(A,3,0)\n",
    "C"
   ],
   "metadata": {
    "collapsed": false,
    "ExecuteTime": {
     "end_time": "2023-09-05T11:40:55.236498Z",
     "start_time": "2023-09-05T11:40:55.228270Z"
    }
   }
  },
  {
   "cell_type": "code",
   "execution_count": 28,
   "outputs": [
    {
     "data": {
      "text/plain": "tensor([[0.3382, 0.8479, 0.3765, 0.4090],\n        [0.8136, 0.6187, 0.2132, 0.8314],\n        [0.3733, 0.3669, 0.8634, 0.6380],\n        [0.7832, 0.7307, 0.3306, 0.0568],\n        [0.2011, 0.9205, 0.6274, 0.9683]])"
     },
     "execution_count": 28,
     "metadata": {},
     "output_type": "execute_result"
    }
   ],
   "source": [
    "A = torch.rand(5,4)\n",
    "A"
   ],
   "metadata": {
    "collapsed": false,
    "ExecuteTime": {
     "end_time": "2023-09-05T11:43:19.526698Z",
     "start_time": "2023-09-05T11:43:19.520543Z"
    }
   }
  },
  {
   "cell_type": "code",
   "execution_count": 32,
   "outputs": [
    {
     "data": {
      "text/plain": "(tensor([[0.3382, 0.8479, 0.3765, 0.4090],\n         [0.8136, 0.6187, 0.2132, 0.8314]]),\n tensor([[0.3733, 0.3669, 0.8634, 0.6380],\n         [0.7832, 0.7307, 0.3306, 0.0568],\n         [0.2011, 0.9205, 0.6274, 0.9683]]))"
     },
     "execution_count": 32,
     "metadata": {},
     "output_type": "execute_result"
    }
   ],
   "source": [
    "B = torch.split(A,(2,3),0)\n",
    "B"
   ],
   "metadata": {
    "collapsed": false,
    "ExecuteTime": {
     "end_time": "2023-09-05T11:43:43.468157Z",
     "start_time": "2023-09-05T11:43:43.461683Z"
    }
   }
  },
  {
   "cell_type": "markdown",
   "source": [
    "### unbind 是一种降维切分的方式"
   ],
   "metadata": {
    "collapsed": false
   }
  },
  {
   "cell_type": "code",
   "execution_count": 33,
   "outputs": [
    {
     "data": {
      "text/plain": "tensor([[ 0,  1,  2,  3],\n        [ 4,  5,  6,  7],\n        [ 8,  9, 10, 11],\n        [12, 13, 14, 15]])"
     },
     "execution_count": 33,
     "metadata": {},
     "output_type": "execute_result"
    }
   ],
   "source": [
    "A = torch.arange(0,16).view(4,4)\n",
    "A"
   ],
   "metadata": {
    "collapsed": false,
    "ExecuteTime": {
     "end_time": "2023-09-05T11:44:32.150297Z",
     "start_time": "2023-09-05T11:44:32.140109Z"
    }
   }
  },
  {
   "cell_type": "code",
   "execution_count": 35,
   "outputs": [
    {
     "data": {
      "text/plain": "(tensor([0, 1, 2, 3]),\n tensor([4, 5, 6, 7]),\n tensor([ 8,  9, 10, 11]),\n tensor([12, 13, 14, 15]))"
     },
     "execution_count": 35,
     "metadata": {},
     "output_type": "execute_result"
    }
   ],
   "source": [
    "b = torch.unbind(A,0)\n",
    "b"
   ],
   "metadata": {
    "collapsed": false,
    "ExecuteTime": {
     "end_time": "2023-09-05T11:44:47.480539Z",
     "start_time": "2023-09-05T11:44:47.475703Z"
    }
   }
  },
  {
   "cell_type": "markdown",
   "source": [
    "### Tensor 的索引操作"
   ],
   "metadata": {
    "collapsed": false
   }
  },
  {
   "cell_type": "code",
   "execution_count": 36,
   "outputs": [
    {
     "data": {
      "text/plain": "tensor([[ 0,  1,  2,  3],\n        [ 4,  5,  6,  7],\n        [ 8,  9, 10, 11],\n        [12, 13, 14, 15]])"
     },
     "execution_count": 36,
     "metadata": {},
     "output_type": "execute_result"
    }
   ],
   "source": [
    "A = torch.arange(0,16).view(4,4)\n",
    "A"
   ],
   "metadata": {
    "collapsed": false,
    "ExecuteTime": {
     "end_time": "2023-09-05T11:46:33.923638Z",
     "start_time": "2023-09-05T11:46:33.911249Z"
    }
   }
  },
  {
   "cell_type": "code",
   "execution_count": 37,
   "outputs": [
    {
     "data": {
      "text/plain": "tensor([[ 4,  5,  6,  7],\n        [12, 13, 14, 15]])"
     },
     "execution_count": 37,
     "metadata": {},
     "output_type": "execute_result"
    }
   ],
   "source": [
    "B = torch.index_select(A,0,torch.tensor([1,3]))\n",
    "B"
   ],
   "metadata": {
    "collapsed": false,
    "ExecuteTime": {
     "end_time": "2023-09-05T11:48:35.934698Z",
     "start_time": "2023-09-05T11:48:35.922362Z"
    }
   }
  },
  {
   "cell_type": "code",
   "execution_count": 38,
   "outputs": [
    {
     "data": {
      "text/plain": "tensor([[ 0,  3],\n        [ 4,  7],\n        [ 8, 11],\n        [12, 15]])"
     },
     "execution_count": 38,
     "metadata": {},
     "output_type": "execute_result"
    }
   ],
   "source": [
    "C = torch.index_select(A,1,torch.tensor([0,3]))\n",
    "C"
   ],
   "metadata": {
    "collapsed": false,
    "ExecuteTime": {
     "end_time": "2023-09-05T11:50:19.247346Z",
     "start_time": "2023-09-05T11:50:19.236203Z"
    }
   }
  },
  {
   "cell_type": "code",
   "execution_count": 39,
   "outputs": [
    {
     "data": {
      "text/plain": "tensor([0.0949, 0.5255, 0.9441, 0.2842, 0.2213])"
     },
     "execution_count": 39,
     "metadata": {},
     "output_type": "execute_result"
    }
   ],
   "source": [
    "A = torch.rand(5)\n",
    "A"
   ],
   "metadata": {
    "collapsed": false,
    "ExecuteTime": {
     "end_time": "2023-09-05T11:52:11.021660Z",
     "start_time": "2023-09-05T11:52:11.010019Z"
    }
   }
  },
  {
   "cell_type": "code",
   "execution_count": 41,
   "outputs": [
    {
     "data": {
      "text/plain": "tensor([False,  True,  True, False, False])"
     },
     "execution_count": 41,
     "metadata": {},
     "output_type": "execute_result"
    }
   ],
   "source": [
    "B = A>0.3\n",
    "B"
   ],
   "metadata": {
    "collapsed": false,
    "ExecuteTime": {
     "end_time": "2023-09-05T11:52:24.870803Z",
     "start_time": "2023-09-05T11:52:24.865889Z"
    }
   }
  },
  {
   "cell_type": "code",
   "execution_count": 42,
   "outputs": [
    {
     "data": {
      "text/plain": "tensor([0.5255, 0.9441])"
     },
     "execution_count": 42,
     "metadata": {},
     "output_type": "execute_result"
    }
   ],
   "source": [
    "C = torch.masked_select(A,B)\n",
    "C"
   ],
   "metadata": {
    "collapsed": false,
    "ExecuteTime": {
     "end_time": "2023-09-05T11:54:39.390364Z",
     "start_time": "2023-09-05T11:54:39.378352Z"
    }
   }
  },
  {
   "cell_type": "code",
   "execution_count": 44,
   "outputs": [
    {
     "data": {
      "text/plain": "tensor([0.5255, 0.9441])"
     },
     "execution_count": 44,
     "metadata": {},
     "output_type": "execute_result"
    }
   ],
   "source": [
    "C = torch.masked_select(A,A>0.3)\n",
    "C"
   ],
   "metadata": {
    "collapsed": false,
    "ExecuteTime": {
     "end_time": "2023-09-05T11:55:02.906376Z",
     "start_time": "2023-09-05T11:55:02.902623Z"
    }
   }
  },
  {
   "cell_type": "markdown",
   "source": [
    "![image-20230905195515451](https://cdn.jsdelivr.net/gh/Hyeonwuu/Image/image-20230905195515451.png)"
   ],
   "metadata": {
    "collapsed": false
   }
  },
  {
   "cell_type": "markdown",
   "source": [
    "### 练习"
   ],
   "metadata": {
    "collapsed": false
   }
  },
  {
   "cell_type": "code",
   "execution_count": 47,
   "outputs": [
    {
     "data": {
      "text/plain": "tensor([4, 3, 9, 4])"
     },
     "execution_count": 47,
     "metadata": {},
     "output_type": "execute_result"
    }
   ],
   "source": [
    "A = torch.tensor([[4,5,7], [3,9,8],[2,3,4]])\n",
    "B = torch.tensor([[1,0,0],[1,1,0],[0,0,1]])\n",
    "C = torch.masked_select(A,B>0)\n",
    "C"
   ],
   "metadata": {
    "collapsed": false,
    "ExecuteTime": {
     "end_time": "2023-09-05T11:57:58.714502Z",
     "start_time": "2023-09-05T11:57:58.709827Z"
    }
   }
  },
  {
   "cell_type": "code",
   "execution_count": null,
   "outputs": [],
   "source": [],
   "metadata": {
    "collapsed": false
   }
  }
 ],
 "metadata": {
  "kernelspec": {
   "display_name": "Python 3",
   "language": "python",
   "name": "python3"
  },
  "language_info": {
   "codemirror_mode": {
    "name": "ipython",
    "version": 2
   },
   "file_extension": ".py",
   "mimetype": "text/x-python",
   "name": "python",
   "nbconvert_exporter": "python",
   "pygments_lexer": "ipython2",
   "version": "2.7.6"
  }
 },
 "nbformat": 4,
 "nbformat_minor": 0
}
