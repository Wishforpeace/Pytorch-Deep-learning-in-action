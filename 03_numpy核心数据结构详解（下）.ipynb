{
 "cells": [
  {
   "cell_type": "code",
   "execution_count": 82,
   "metadata": {
    "collapsed": true,
    "ExecuteTime": {
     "end_time": "2023-09-05T08:41:50.429647Z",
     "start_time": "2023-09-05T08:41:50.409203Z"
    }
   },
   "outputs": [
    {
     "data": {
      "text/plain": "(318, 116)"
     },
     "execution_count": 82,
     "metadata": {},
     "output_type": "execute_result"
    }
   ],
   "source": [
    "import matplotlib.pyplot as plt\n",
    "from PIL import Image\n",
    "im = Image.open('jk.jpg')\n",
    "im.size"
   ]
  },
  {
   "cell_type": "code",
   "execution_count": 83,
   "outputs": [
    {
     "data": {
      "text/plain": "(116, 318, 3)"
     },
     "execution_count": 83,
     "metadata": {},
     "output_type": "execute_result"
    }
   ],
   "source": [
    "import numpy as np\n",
    "im_pillow = np.asarray(im)\n",
    "im_pillow.shape\n"
   ],
   "metadata": {
    "collapsed": false,
    "ExecuteTime": {
     "end_time": "2023-09-05T08:41:50.431022Z",
     "start_time": "2023-09-05T08:41:50.413930Z"
    }
   }
  },
  {
   "cell_type": "code",
   "execution_count": 84,
   "outputs": [
    {
     "data": {
      "text/plain": "(116, 318, 3)"
     },
     "execution_count": 84,
     "metadata": {},
     "output_type": "execute_result"
    }
   ],
   "source": [
    "import cv2\n",
    "im_cv2 = cv2.imread('jk.jpg')\n",
    "type(im_cv2)\n",
    "im_cv2.shape"
   ],
   "metadata": {
    "collapsed": false,
    "ExecuteTime": {
     "end_time": "2023-09-05T08:41:50.439958Z",
     "start_time": "2023-09-05T08:41:50.418132Z"
    }
   }
  },
  {
   "cell_type": "markdown",
   "source": [
    "### Pillow读入通道的顺序是R、G、B\n",
    "### OpenCV读入后顺序是B、G、R"
   ],
   "metadata": {
    "collapsed": false
   }
  },
  {
   "cell_type": "code",
   "execution_count": 85,
   "outputs": [
    {
     "data": {
      "text/plain": "array([[255, 255, 255, ..., 255, 255, 255],\n       [255, 255, 255, ..., 255, 255, 255],\n       [255, 255, 255, ..., 255, 255, 255],\n       ...,\n       [255, 255, 255, ..., 255, 255, 255],\n       [255, 255, 255, ..., 255, 255, 255],\n       [255, 255, 255, ..., 255, 255, 255]], dtype=uint8)"
     },
     "execution_count": 85,
     "metadata": {},
     "output_type": "execute_result"
    }
   ],
   "source": [
    "im_pillow[:,:,2]"
   ],
   "metadata": {
    "collapsed": false,
    "ExecuteTime": {
     "end_time": "2023-09-05T08:41:50.440769Z",
     "start_time": "2023-09-05T08:41:50.423141Z"
    }
   }
  },
  {
   "cell_type": "code",
   "execution_count": 86,
   "outputs": [
    {
     "data": {
      "text/plain": "(116, 318, 1)"
     },
     "execution_count": 86,
     "metadata": {},
     "output_type": "execute_result"
    }
   ],
   "source": [
    "zeros = np.zeros((im_pillow.shape[0],im_pillow.shape[1],1))\n",
    "zeros.shape"
   ],
   "metadata": {
    "collapsed": false,
    "ExecuteTime": {
     "end_time": "2023-09-05T08:41:50.462426Z",
     "start_time": "2023-09-05T08:41:50.427764Z"
    }
   }
  },
  {
   "cell_type": "code",
   "execution_count": 87,
   "outputs": [],
   "source": [
    "im_pillow_c1 = im_pillow[:,:,0]\n",
    "im_pillow_c2 = im_pillow[:,:,1]\n",
    "im_pillow_c3 = im_pillow[:,:,2]\n"
   ],
   "metadata": {
    "collapsed": false,
    "ExecuteTime": {
     "end_time": "2023-09-05T08:41:50.462547Z",
     "start_time": "2023-09-05T08:41:50.430950Z"
    }
   }
  },
  {
   "cell_type": "code",
   "execution_count": 88,
   "outputs": [
    {
     "ename": "AxisError",
     "evalue": "axis 2 is out of bounds for array of dimension 2",
     "output_type": "error",
     "traceback": [
      "\u001B[0;31m---------------------------------------------------------------------------\u001B[0m",
      "\u001B[0;31mAxisError\u001B[0m                                 Traceback (most recent call last)",
      "Cell \u001B[0;32mIn[88], line 1\u001B[0m\n\u001B[0;32m----> 1\u001B[0m im_pillow_c1_3ch \u001B[38;5;241m=\u001B[39m \u001B[43mnp\u001B[49m\u001B[38;5;241;43m.\u001B[39;49m\u001B[43mconcatenate\u001B[49m\u001B[43m(\u001B[49m\u001B[43m(\u001B[49m\u001B[43mim_pillow_c1\u001B[49m\u001B[43m,\u001B[49m\u001B[43mzeros\u001B[49m\u001B[43m,\u001B[49m\u001B[43mzeros\u001B[49m\u001B[43m)\u001B[49m\u001B[43m,\u001B[49m\u001B[43maxis\u001B[49m\u001B[38;5;241;43m=\u001B[39;49m\u001B[38;5;241;43m2\u001B[39;49m\u001B[43m)\u001B[49m\n",
      "File \u001B[0;32m<__array_function__ internals>:200\u001B[0m, in \u001B[0;36mconcatenate\u001B[0;34m(*args, **kwargs)\u001B[0m\n",
      "\u001B[0;31mAxisError\u001B[0m: axis 2 is out of bounds for array of dimension 2"
     ]
    }
   ],
   "source": [
    "im_pillow_c1_3ch = np.concatenate((im_pillow_c1,zeros,zeros),axis=2)"
   ],
   "metadata": {
    "collapsed": false,
    "ExecuteTime": {
     "end_time": "2023-09-05T08:41:50.463129Z",
     "start_time": "2023-09-05T08:41:50.440222Z"
    }
   }
  },
  {
   "cell_type": "code",
   "execution_count": null,
   "outputs": [],
   "source": [
    "im_pillow_c1.shape"
   ],
   "metadata": {
    "collapsed": false,
    "ExecuteTime": {
     "start_time": "2023-09-05T08:41:50.445262Z"
    }
   }
  },
  {
   "cell_type": "code",
   "execution_count": null,
   "outputs": [],
   "source": [
    "zeros.shape"
   ],
   "metadata": {
    "collapsed": false,
    "ExecuteTime": {
     "start_time": "2023-09-05T08:41:50.446437Z"
    }
   }
  },
  {
   "cell_type": "markdown",
   "source": [
    "### np.newaxis"
   ],
   "metadata": {
    "collapsed": false
   }
  },
  {
   "cell_type": "code",
   "execution_count": 91,
   "outputs": [
    {
     "data": {
      "text/plain": "(116, 318, 1)"
     },
     "execution_count": 91,
     "metadata": {},
     "output_type": "execute_result"
    }
   ],
   "source": [
    "im_pillow_c1 = im_pillow_c1[:,:,np.newaxis]\n",
    "im_pillow_c1.shape"
   ],
   "metadata": {
    "collapsed": false,
    "ExecuteTime": {
     "end_time": "2023-09-05T08:42:46.859135Z",
     "start_time": "2023-09-05T08:42:46.852727Z"
    }
   }
  },
  {
   "cell_type": "code",
   "execution_count": 93,
   "outputs": [],
   "source": [
    "im_pillow_c1_3ch = np.concatenate((im_pillow_c1,zeros,zeros),axis=2)"
   ],
   "metadata": {
    "collapsed": false,
    "ExecuteTime": {
     "end_time": "2023-09-05T08:42:51.324021Z",
     "start_time": "2023-09-05T08:42:51.317290Z"
    }
   }
  },
  {
   "cell_type": "code",
   "execution_count": 94,
   "outputs": [
    {
     "data": {
      "text/plain": "array([[[255.,   0.,   0.],\n        [255.,   0.,   0.],\n        [255.,   0.,   0.],\n        ...,\n        [255.,   0.,   0.],\n        [255.,   0.,   0.],\n        [255.,   0.,   0.]],\n\n       [[255.,   0.,   0.],\n        [255.,   0.,   0.],\n        [255.,   0.,   0.],\n        ...,\n        [255.,   0.,   0.],\n        [255.,   0.,   0.],\n        [255.,   0.,   0.]],\n\n       [[255.,   0.,   0.],\n        [255.,   0.,   0.],\n        [255.,   0.,   0.],\n        ...,\n        [255.,   0.,   0.],\n        [255.,   0.,   0.],\n        [255.,   0.,   0.]],\n\n       ...,\n\n       [[255.,   0.,   0.],\n        [255.,   0.,   0.],\n        [255.,   0.,   0.],\n        ...,\n        [255.,   0.,   0.],\n        [255.,   0.,   0.],\n        [255.,   0.,   0.]],\n\n       [[255.,   0.,   0.],\n        [255.,   0.,   0.],\n        [255.,   0.,   0.],\n        ...,\n        [255.,   0.,   0.],\n        [255.,   0.,   0.],\n        [255.,   0.,   0.]],\n\n       [[255.,   0.,   0.],\n        [255.,   0.,   0.],\n        [255.,   0.,   0.],\n        ...,\n        [255.,   0.,   0.],\n        [255.,   0.,   0.],\n        [255.,   0.,   0.]]])"
     },
     "execution_count": 94,
     "metadata": {},
     "output_type": "execute_result"
    }
   ],
   "source": [
    "im_pillow_c1_3ch"
   ],
   "metadata": {
    "collapsed": false,
    "ExecuteTime": {
     "end_time": "2023-09-05T08:42:52.291111Z",
     "start_time": "2023-09-05T08:42:52.285471Z"
    }
   }
  },
  {
   "cell_type": "markdown",
   "source": [
    "### 直接赋值"
   ],
   "metadata": {
    "collapsed": false
   }
  },
  {
   "cell_type": "code",
   "execution_count": 95,
   "outputs": [],
   "source": [
    "im_pillow_c2_3ch = np.zeros(im_pillow.shape)"
   ],
   "metadata": {
    "collapsed": false,
    "ExecuteTime": {
     "end_time": "2023-09-05T08:42:54.213378Z",
     "start_time": "2023-09-05T08:42:54.206063Z"
    }
   }
  },
  {
   "cell_type": "code",
   "execution_count": 96,
   "outputs": [],
   "source": [
    "im_pillow_c2_3ch[:,:,1] = im_pillow_c2"
   ],
   "metadata": {
    "collapsed": false,
    "ExecuteTime": {
     "end_time": "2023-09-05T08:42:55.347086Z",
     "start_time": "2023-09-05T08:42:55.339295Z"
    }
   }
  },
  {
   "cell_type": "code",
   "execution_count": 97,
   "outputs": [],
   "source": [
    "im_pillow_c3_3ch = np.zeros(im_pillow.shape)"
   ],
   "metadata": {
    "collapsed": false,
    "ExecuteTime": {
     "end_time": "2023-09-05T08:42:55.757219Z",
     "start_time": "2023-09-05T08:42:55.752655Z"
    }
   }
  },
  {
   "cell_type": "code",
   "execution_count": 98,
   "outputs": [],
   "source": [
    "im_pillow_c3_3ch[:,:,2] = im_pillow_c3"
   ],
   "metadata": {
    "collapsed": false,
    "ExecuteTime": {
     "end_time": "2023-09-05T08:42:55.916273Z",
     "start_time": "2023-09-05T08:42:55.912500Z"
    }
   }
  },
  {
   "cell_type": "code",
   "execution_count": 99,
   "outputs": [
    {
     "data": {
      "text/plain": "(-0.5, 317.5, 115.5, -0.5)"
     },
     "execution_count": 99,
     "metadata": {},
     "output_type": "execute_result"
    },
    {
     "data": {
      "text/plain": "<Figure size 640x480 with 1 Axes>",
      "image/png": "[encoded data removed]"
     },
     "metadata": {},
     "output_type": "display_data"
    }
   ],
   "source": [
    "import matplotlib.pyplot as plt\n",
    "plt.subplot(2,2,1)\n",
    "plt.title('Origin Image')\n",
    "plt.imshow(im_pillow)\n",
    "plt.axis('off')"
   ],
   "metadata": {
    "collapsed": false,
    "ExecuteTime": {
     "end_time": "2023-09-05T08:42:56.368996Z",
     "start_time": "2023-09-05T08:42:56.344948Z"
    }
   }
  },
  {
   "cell_type": "code",
   "execution_count": 100,
   "outputs": [
    {
     "data": {
      "text/plain": "(-0.5, 317.5, 115.5, -0.5)"
     },
     "execution_count": 100,
     "metadata": {},
     "output_type": "execute_result"
    },
    {
     "data": {
      "text/plain": "<Figure size 640x480 with 1 Axes>",
      "image/png": "[encoded data removed]"
     },
     "metadata": {},
     "output_type": "display_data"
    }
   ],
   "source": [
    "plt.subplot(2, 2, 2)\n",
    "plt.title('Red Channel')\n",
    "plt.imshow(im_pillow_c1_3ch.astype(np.uint8))\n",
    "plt.axis('off')"
   ],
   "metadata": {
    "collapsed": false,
    "ExecuteTime": {
     "end_time": "2023-09-05T08:42:57.475872Z",
     "start_time": "2023-09-05T08:42:57.438454Z"
    }
   }
  },
  {
   "cell_type": "code",
   "execution_count": 101,
   "outputs": [
    {
     "data": {
      "text/plain": "(-0.5, 317.5, 115.5, -0.5)"
     },
     "execution_count": 101,
     "metadata": {},
     "output_type": "execute_result"
    },
    {
     "data": {
      "text/plain": "<Figure size 640x480 with 1 Axes>",
      "image/png": "[encoded data removed]"
     },
     "metadata": {},
     "output_type": "display_data"
    }
   ],
   "source": [
    "plt.subplot(2, 2, 3)\n",
    "plt.title('Green Channel')\n",
    "plt.imshow(im_pillow_c2_3ch.astype(np.uint8))\n",
    "plt.axis('off')"
   ],
   "metadata": {
    "collapsed": false,
    "ExecuteTime": {
     "end_time": "2023-09-05T08:42:58.334258Z",
     "start_time": "2023-09-05T08:42:58.289591Z"
    }
   }
  },
  {
   "cell_type": "code",
   "execution_count": 102,
   "outputs": [
    {
     "data": {
      "text/plain": "(-0.5, 317.5, 115.5, -0.5)"
     },
     "execution_count": 102,
     "metadata": {},
     "output_type": "execute_result"
    },
    {
     "data": {
      "text/plain": "<Figure size 640x480 with 1 Axes>",
      "image/png": "[encoded data removed]"
     },
     "metadata": {},
     "output_type": "display_data"
    }
   ],
   "source": [
    "plt.subplot(2, 2, 4)\n",
    "plt.title('Blue Channel')\n",
    "plt.imshow(im_pillow_c3_3ch.astype(np.uint8))\n",
    "plt.axis('off')"
   ],
   "metadata": {
    "collapsed": false,
    "ExecuteTime": {
     "end_time": "2023-09-05T08:42:59.153050Z",
     "start_time": "2023-09-05T08:42:59.110818Z"
    }
   }
  },
  {
   "cell_type": "code",
   "execution_count": 105,
   "outputs": [
    {
     "data": {
      "text/plain": "<Figure size 640x480 with 0 Axes>"
     },
     "metadata": {},
     "output_type": "display_data"
    }
   ],
   "source": [
    "plt.savefig('./rgb_pillow.png', dpi=150)"
   ],
   "metadata": {
    "collapsed": false,
    "ExecuteTime": {
     "end_time": "2023-09-05T08:43:22.922998Z",
     "start_time": "2023-09-05T08:43:22.890120Z"
    }
   }
  },
  {
   "cell_type": "markdown",
   "source": [
    "### 深拷贝（副本）与浅拷贝（视图）"
   ],
   "metadata": {
    "collapsed": false
   }
  },
  {
   "cell_type": "code",
   "execution_count": 106,
   "outputs": [
    {
     "ename": "ValueError",
     "evalue": "assignment destination is read-only",
     "output_type": "error",
     "traceback": [
      "\u001B[0;31m---------------------------------------------------------------------------\u001B[0m",
      "\u001B[0;31mValueError\u001B[0m                                Traceback (most recent call last)",
      "Cell \u001B[0;32mIn[106], line 6\u001B[0m\n\u001B[1;32m      4\u001B[0m im \u001B[38;5;241m=\u001B[39m Image\u001B[38;5;241m.\u001B[39mopen(\u001B[38;5;124m'\u001B[39m\u001B[38;5;124mjk.jpg\u001B[39m\u001B[38;5;124m'\u001B[39m)\n\u001B[1;32m      5\u001B[0m im_pillow \u001B[38;5;241m=\u001B[39m np\u001B[38;5;241m.\u001B[39masarray(im)\n\u001B[0;32m----> 6\u001B[0m \u001B[43mim_pillow\u001B[49m\u001B[43m[\u001B[49m\u001B[43m:\u001B[49m\u001B[43m,\u001B[49m\u001B[43m:\u001B[49m\u001B[43m,\u001B[49m\u001B[38;5;241;43m1\u001B[39;49m\u001B[43m:\u001B[49m\u001B[43m]\u001B[49m \u001B[38;5;241m=\u001B[39m \u001B[38;5;241m0\u001B[39m\n",
      "\u001B[0;31mValueError\u001B[0m: assignment destination is read-only"
     ]
    }
   ],
   "source": [
    "from PIL import Image\n",
    "import numpy as np\n",
    "\n",
    "im = Image.open('jk.jpg')\n",
    "im_pillow = np.asarray(im)\n",
    "im_pillow[:,:,1:] = 0"
   ],
   "metadata": {
    "collapsed": false,
    "ExecuteTime": {
     "end_time": "2023-09-05T08:46:50.936466Z",
     "start_time": "2023-09-05T08:46:50.925646Z"
    }
   }
  },
  {
   "cell_type": "markdown",
   "source": [
    "### np.array() 属于深拷贝，np.asarray() 则是浅拷贝"
   ],
   "metadata": {
    "collapsed": false
   }
  },
  {
   "cell_type": "code",
   "execution_count": 113,
   "outputs": [
    {
     "name": "stdout",
     "output_type": "stream",
     "text": [
      "(6,)\n",
      "[0 1 2 3 4 5]\n"
     ]
    }
   ],
   "source": [
    "a = np.arange(6)\n",
    "print(a.shape)\n",
    "print(a)"
   ],
   "metadata": {
    "collapsed": false,
    "ExecuteTime": {
     "end_time": "2023-09-05T08:52:56.323772Z",
     "start_time": "2023-09-05T08:52:56.316391Z"
    }
   }
  },
  {
   "cell_type": "markdown",
   "source": [
    "### 浅拷贝或称视图，指的是与原数组共享数据的数组\n",
    "### 视图通过`view`创建"
   ],
   "metadata": {
    "collapsed": false
   }
  },
  {
   "cell_type": "code",
   "execution_count": 109,
   "outputs": [
    {
     "name": "stdout",
     "output_type": "stream",
     "text": [
      "(6,)\n"
     ]
    }
   ],
   "source": [
    "b = a.view()\n",
    "print(b.shape)"
   ],
   "metadata": {
    "collapsed": false,
    "ExecuteTime": {
     "end_time": "2023-09-05T08:51:51.885160Z",
     "start_time": "2023-09-05T08:51:51.879758Z"
    }
   }
  },
  {
   "cell_type": "code",
   "execution_count": 111,
   "outputs": [
    {
     "name": "stdout",
     "output_type": "stream",
     "text": [
      "[[0 1 2]\n",
      " [3 4 5]]\n"
     ]
    }
   ],
   "source": [
    "b.shape = (2,3)\n",
    "print(b)"
   ],
   "metadata": {
    "collapsed": false,
    "ExecuteTime": {
     "end_time": "2023-09-05T08:52:16.892890Z",
     "start_time": "2023-09-05T08:52:16.888739Z"
    }
   }
  },
  {
   "cell_type": "code",
   "execution_count": 112,
   "outputs": [
    {
     "name": "stdout",
     "output_type": "stream",
     "text": [
      "[111   1   2   3   4   5]\n"
     ]
    }
   ],
   "source": [
    "b[0,0]=111\n",
    "print(a)"
   ],
   "metadata": {
    "collapsed": false,
    "ExecuteTime": {
     "end_time": "2023-09-05T08:52:36.015772Z",
     "start_time": "2023-09-05T08:52:35.999252Z"
    }
   }
  },
  {
   "cell_type": "markdown",
   "source": [
    "### 深拷贝又称为副本，完全复制原有数组\n",
    "## 使用`copy`方法"
   ],
   "metadata": {
    "collapsed": false
   }
  },
  {
   "cell_type": "code",
   "execution_count": 115,
   "outputs": [
    {
     "data": {
      "text/plain": "array([[[255,   0,   0],\n        [255,   0,   0],\n        [255,   0,   0],\n        ...,\n        [255,   0,   0],\n        [255,   0,   0],\n        [255,   0,   0]],\n\n       [[255,   0,   0],\n        [255,   0,   0],\n        [255,   0,   0],\n        ...,\n        [255,   0,   0],\n        [255,   0,   0],\n        [255,   0,   0]],\n\n       [[255,   0,   0],\n        [255,   0,   0],\n        [255,   0,   0],\n        ...,\n        [255,   0,   0],\n        [255,   0,   0],\n        [255,   0,   0]],\n\n       ...,\n\n       [[255,   0,   0],\n        [255,   0,   0],\n        [255,   0,   0],\n        ...,\n        [255,   0,   0],\n        [255,   0,   0],\n        [255,   0,   0]],\n\n       [[255,   0,   0],\n        [255,   0,   0],\n        [255,   0,   0],\n        ...,\n        [255,   0,   0],\n        [255,   0,   0],\n        [255,   0,   0]],\n\n       [[255,   0,   0],\n        [255,   0,   0],\n        [255,   0,   0],\n        ...,\n        [255,   0,   0],\n        [255,   0,   0],\n        [255,   0,   0]]], dtype=uint8)"
     },
     "execution_count": 115,
     "metadata": {},
     "output_type": "execute_result"
    }
   ],
   "source": [
    "im_pillow = np.array(im)\n",
    "im_pillow[:,:,1:]=0\n",
    "im_pillow"
   ],
   "metadata": {
    "collapsed": false,
    "ExecuteTime": {
     "end_time": "2023-09-05T08:55:02.922108Z",
     "start_time": "2023-09-05T08:55:02.918077Z"
    }
   }
  },
  {
   "cell_type": "markdown",
   "source": [
    "![image-20230905165849517](https://cdn.jsdelivr.net/gh/Hyeonwuu/Image/image-20230905165849517.png)"
   ],
   "metadata": {
    "collapsed": false
   }
  },
  {
   "cell_type": "markdown",
   "source": [
    "# 每日一练"
   ],
   "metadata": {
    "collapsed": false
   }
  },
  {
   "cell_type": "code",
   "execution_count": 122,
   "outputs": [],
   "source": [
    "scores = np.random.rand(256,256,2)\n",
    "scores[:,:,1] = 1 - scores[:,:,0]\n",
    "mask = np.ones((scores.shape[0],scores.shape[1],1),dtype=np.uint8)\n",
    "mask.shape\n",
    "\n",
    "mask[scores[:,:,0] > scores[:,:,1]] = 0"
   ],
   "metadata": {
    "collapsed": false,
    "ExecuteTime": {
     "end_time": "2023-09-05T09:14:11.362597Z",
     "start_time": "2023-09-05T09:14:11.354749Z"
    }
   }
  },
  {
   "cell_type": "code",
   "execution_count": 131,
   "outputs": [
    {
     "name": "stdout",
     "output_type": "stream",
     "text": [
      "0.20059632050367182\n",
      "0.7994036794963282\n"
     ]
    }
   ],
   "source": [
    "print(scores[0,1,0])\n",
    "print(scores[0,1,1])"
   ],
   "metadata": {
    "collapsed": false,
    "ExecuteTime": {
     "end_time": "2023-09-05T09:15:19.303057Z",
     "start_time": "2023-09-05T09:15:19.297714Z"
    }
   }
  },
  {
   "cell_type": "code",
   "execution_count": 130,
   "outputs": [
    {
     "data": {
      "text/plain": "1"
     },
     "execution_count": 130,
     "metadata": {},
     "output_type": "execute_result"
    }
   ],
   "source": [
    "mask[0,1,0]"
   ],
   "metadata": {
    "collapsed": false,
    "ExecuteTime": {
     "end_time": "2023-09-05T09:15:17.182700Z",
     "start_time": "2023-09-05T09:15:17.179728Z"
    }
   }
  },
  {
   "cell_type": "code",
   "execution_count": null,
   "outputs": [],
   "source": [],
   "metadata": {
    "collapsed": false
   }
  }
 ],
 "metadata": {
  "kernelspec": {
   "display_name": "Python 3",
   "language": "python",
   "name": "python3"
  },
  "language_info": {
   "codemirror_mode": {
    "name": "ipython",
    "version": 2
   },
   "file_extension": ".py",
   "mimetype": "text/x-python",
   "name": "python",
   "nbconvert_exporter": "python",
   "pygments_lexer": "ipython2",
   "version": "2.7.6"
  }
 },
 "nbformat": 4,
 "nbformat_minor": 0
}
