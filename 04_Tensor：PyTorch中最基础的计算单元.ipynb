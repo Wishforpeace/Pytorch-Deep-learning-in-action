{
 "cells": [
  {
   "cell_type": "markdown",
   "source": [
    "### Tensor 的类型\n",
    "![image-20230905172235197](https://cdn.jsdelivr.net/gh/Hyeonwuu/Image/image-20230905172235197.png)"
   ],
   "metadata": {
    "collapsed": false
   }
  },
  {
   "cell_type": "markdown",
   "source": [
    "```python\n",
    "torch.rand(size)\n",
    "torch.randn(size)\n",
    "torch.normal(mean, std, size)\n",
    "torch.randint(low, high, size)\n",
    "```\n"
   ],
   "metadata": {
    "collapsed": false
   }
  },
  {
   "cell_type": "markdown",
   "source": [
    "# Tensor转换"
   ],
   "metadata": {
    "collapsed": false
   }
  },
  {
   "cell_type": "code",
   "execution_count": 4,
   "outputs": [
    {
     "data": {
      "text/plain": "1"
     },
     "execution_count": 4,
     "metadata": {},
     "output_type": "execute_result"
    }
   ],
   "source": [
    "import torch\n",
    "import numpy as np\n",
    "a = torch.tensor(1)\n",
    "b = a.item()\n",
    "b"
   ],
   "metadata": {
    "collapsed": false,
    "ExecuteTime": {
     "end_time": "2023-09-05T10:49:50.956212Z",
     "start_time": "2023-09-05T10:49:50.948359Z"
    }
   }
  },
  {
   "cell_type": "code",
   "execution_count": 9,
   "outputs": [
    {
     "name": "stdout",
     "output_type": "stream",
     "text": [
      "<class 'list'>\n",
      "<class 'torch.Tensor'>\n",
      "<class 'list'>\n"
     ]
    }
   ],
   "source": [
    "# list转换为tensor\n",
    "a = [1,2,3]\n",
    "b = torch.tensor(a)\n",
    "c = b.numpy().tolist()\n",
    "print(type(a))\n",
    "print(type(b))\n",
    "print(type(c))"
   ],
   "metadata": {
    "collapsed": false,
    "ExecuteTime": {
     "end_time": "2023-09-05T10:51:07.885392Z",
     "start_time": "2023-09-05T10:51:07.878929Z"
    }
   }
  },
  {
   "cell_type": "markdown",
   "source": [
    "# Tensor常用操作"
   ],
   "metadata": {
    "collapsed": false
   }
  },
  {
   "cell_type": "markdown",
   "source": [
    "## 获取形状"
   ],
   "metadata": {
    "collapsed": false
   }
  },
  {
   "cell_type": "code",
   "execution_count": 10,
   "outputs": [
    {
     "data": {
      "text/plain": "torch.Size([2, 3, 5])"
     },
     "execution_count": 10,
     "metadata": {},
     "output_type": "execute_result"
    }
   ],
   "source": [
    "a = torch.zeros(2,3,5)\n",
    "a.shape"
   ],
   "metadata": {
    "collapsed": false,
    "ExecuteTime": {
     "end_time": "2023-09-05T10:51:52.941671Z",
     "start_time": "2023-09-05T10:51:52.934045Z"
    }
   }
  },
  {
   "cell_type": "code",
   "execution_count": 11,
   "outputs": [
    {
     "data": {
      "text/plain": "torch.Size([2, 3, 5])"
     },
     "execution_count": 11,
     "metadata": {},
     "output_type": "execute_result"
    }
   ],
   "source": [
    "a.size()"
   ],
   "metadata": {
    "collapsed": false,
    "ExecuteTime": {
     "end_time": "2023-09-05T10:52:11.083160Z",
     "start_time": "2023-09-05T10:52:11.079016Z"
    }
   }
  },
  {
   "cell_type": "code",
   "execution_count": 12,
   "outputs": [
    {
     "data": {
      "text/plain": "30"
     },
     "execution_count": 12,
     "metadata": {},
     "output_type": "execute_result"
    }
   ],
   "source": [
    "# 统计元素个数\n",
    "a.numel()"
   ],
   "metadata": {
    "collapsed": false,
    "ExecuteTime": {
     "end_time": "2023-09-05T10:52:52.989723Z",
     "start_time": "2023-09-05T10:52:52.986235Z"
    }
   }
  },
  {
   "cell_type": "markdown",
   "source": [
    "## 矩阵转置\n",
    "```python\n",
    "permute() 和 transpose()\n",
    "```"
   ],
   "metadata": {
    "collapsed": false
   }
  },
  {
   "cell_type": "code",
   "execution_count": 15,
   "outputs": [
    {
     "name": "stdout",
     "output_type": "stream",
     "text": [
      "torch.Size([2, 3, 5])\n",
      "tensor([[[0.9242, 0.2902, 0.3167, 0.1795, 0.5726],\n",
      "         [0.5672, 0.8111, 0.5351, 0.4660, 0.5162],\n",
      "         [0.9744, 0.0912, 0.2531, 0.6913, 0.5137]],\n",
      "\n",
      "        [[0.9609, 0.1223, 0.2458, 0.9798, 0.1013],\n",
      "         [0.1351, 0.0287, 0.7498, 0.7260, 0.1875],\n",
      "         [0.1135, 0.3809, 0.3699, 0.2856, 0.7173]]])\n"
     ]
    }
   ],
   "source": [
    "x = torch.rand(2,3,5)\n",
    "print(x.shape)\n",
    "print(x)"
   ],
   "metadata": {
    "collapsed": false,
    "ExecuteTime": {
     "end_time": "2023-09-05T10:54:32.014819Z",
     "start_time": "2023-09-05T10:54:32.009699Z"
    }
   }
  },
  {
   "cell_type": "code",
   "execution_count": 16,
   "outputs": [
    {
     "name": "stdout",
     "output_type": "stream",
     "text": [
      "torch.Size([5, 3, 2])\n",
      "tensor([[[0.9242, 0.9609],\n",
      "         [0.5672, 0.1351],\n",
      "         [0.9744, 0.1135]],\n",
      "\n",
      "        [[0.2902, 0.1223],\n",
      "         [0.8111, 0.0287],\n",
      "         [0.0912, 0.3809]],\n",
      "\n",
      "        [[0.3167, 0.2458],\n",
      "         [0.5351, 0.7498],\n",
      "         [0.2531, 0.3699]],\n",
      "\n",
      "        [[0.1795, 0.9798],\n",
      "         [0.4660, 0.7260],\n",
      "         [0.6913, 0.2856]],\n",
      "\n",
      "        [[0.5726, 0.1013],\n",
      "         [0.5162, 0.1875],\n",
      "         [0.5137, 0.7173]]])\n"
     ]
    }
   ],
   "source": [
    "x = x.permute(2,1,0)\n",
    "print(x.shape)\n",
    "print(x)"
   ],
   "metadata": {
    "collapsed": false,
    "ExecuteTime": {
     "end_time": "2023-09-05T10:54:40.621414Z",
     "start_time": "2023-09-05T10:54:40.617441Z"
    }
   }
  },
  {
   "cell_type": "code",
   "execution_count": 17,
   "outputs": [
    {
     "name": "stdout",
     "output_type": "stream",
     "text": [
      "torch.Size([3, 5, 2])\n"
     ]
    }
   ],
   "source": [
    "x = x.transpose(1,0)\n",
    "print(x.shape)"
   ],
   "metadata": {
    "collapsed": false,
    "ExecuteTime": {
     "end_time": "2023-09-05T10:55:35.766578Z",
     "start_time": "2023-09-05T10:55:35.761415Z"
    }
   }
  },
  {
   "cell_type": "markdown",
   "source": [
    "## 形状变换"
   ],
   "metadata": {
    "collapsed": false
   }
  },
  {
   "cell_type": "code",
   "execution_count": 30,
   "outputs": [
    {
     "name": "stdout",
     "output_type": "stream",
     "text": [
      "tensor([[-0.3152,  0.0969,  0.1901,  0.2101],\n",
      "        [-0.3799,  0.4912,  0.0940,  1.5157],\n",
      "        [-0.9359, -0.2826,  1.6203,  0.9830],\n",
      "        [-0.4975, -0.1593, -1.0720, -0.2351]])\n",
      "torch.Size([4, 4])\n",
      "torch.Size([2, 8])\n"
     ]
    }
   ],
   "source": [
    "x = torch.randn(4,4)\n",
    "print(x)\n",
    "print(x.shape)\n",
    "x = x.view(2,8)\n",
    "print(x.shape)"
   ],
   "metadata": {
    "collapsed": false,
    "ExecuteTime": {
     "end_time": "2023-09-05T11:11:15.953385Z",
     "start_time": "2023-09-05T11:11:15.947676Z"
    }
   }
  },
  {
   "cell_type": "code",
   "execution_count": 33,
   "outputs": [
    {
     "data": {
      "text/plain": "torch.Size([2, 8])"
     },
     "execution_count": 33,
     "metadata": {},
     "output_type": "execute_result"
    }
   ],
   "source": [
    "x = x.permute(1,0)\n",
    "x.shape"
   ],
   "metadata": {
    "collapsed": false,
    "ExecuteTime": {
     "end_time": "2023-09-05T11:11:25.832205Z",
     "start_time": "2023-09-05T11:11:25.828867Z"
    }
   }
  },
  {
   "cell_type": "code",
   "execution_count": 32,
   "outputs": [
    {
     "ename": "RuntimeError",
     "evalue": "view size is not compatible with input tensor's size and stride (at least one dimension spans across two contiguous subspaces). Use .reshape(...) instead.",
     "output_type": "error",
     "traceback": [
      "\u001B[0;31m---------------------------------------------------------------------------\u001B[0m",
      "\u001B[0;31mRuntimeError\u001B[0m                              Traceback (most recent call last)",
      "Cell \u001B[0;32mIn[32], line 1\u001B[0m\n\u001B[0;32m----> 1\u001B[0m \u001B[43mx\u001B[49m\u001B[38;5;241;43m.\u001B[39;49m\u001B[43mview\u001B[49m\u001B[43m(\u001B[49m\u001B[38;5;241;43m4\u001B[39;49m\u001B[43m,\u001B[49m\u001B[38;5;241;43m4\u001B[39;49m\u001B[43m)\u001B[49m\n",
      "\u001B[0;31mRuntimeError\u001B[0m: view size is not compatible with input tensor's size and stride (at least one dimension spans across two contiguous subspaces). Use .reshape(...) instead."
     ]
    }
   ],
   "source": [
    "x.view(4,4)"
   ],
   "metadata": {
    "collapsed": false,
    "ExecuteTime": {
     "end_time": "2023-09-05T11:11:22.539282Z",
     "start_time": "2023-09-05T11:11:22.518911Z"
    }
   }
  },
  {
   "cell_type": "markdown",
   "source": [
    "### view()不能处理内存不连续的tensor"
   ],
   "metadata": {
    "collapsed": false
   }
  },
  {
   "cell_type": "markdown",
   "source": [
    "## 增加维度"
   ],
   "metadata": {
    "collapsed": false
   }
  },
  {
   "cell_type": "code",
   "execution_count": 43,
   "outputs": [
    {
     "data": {
      "text/plain": "torch.Size([2, 1, 3])"
     },
     "execution_count": 43,
     "metadata": {},
     "output_type": "execute_result"
    }
   ],
   "source": [
    "x = torch.rand(2,1,3)\n",
    "x.shape"
   ],
   "metadata": {
    "collapsed": false,
    "ExecuteTime": {
     "end_time": "2023-09-05T11:13:29.282201Z",
     "start_time": "2023-09-05T11:13:29.277928Z"
    }
   }
  },
  {
   "cell_type": "code",
   "execution_count": 45,
   "outputs": [
    {
     "data": {
      "text/plain": "torch.Size([2, 3])"
     },
     "execution_count": 45,
     "metadata": {},
     "output_type": "execute_result"
    }
   ],
   "source": [
    "y = x.squeeze(1)\n",
    "y.shape"
   ],
   "metadata": {
    "collapsed": false,
    "ExecuteTime": {
     "end_time": "2023-09-05T11:13:32.183143Z",
     "start_time": "2023-09-05T11:13:32.180376Z"
    }
   }
  },
  {
   "cell_type": "code",
   "execution_count": 46,
   "outputs": [
    {
     "data": {
      "text/plain": "torch.Size([2, 1, 1, 3])"
     },
     "execution_count": 46,
     "metadata": {},
     "output_type": "execute_result"
    }
   ],
   "source": [
    "x = torch.rand(2,1,3)\n",
    "y = x.unsqueeze(2)\n",
    "y.shape"
   ],
   "metadata": {
    "collapsed": false,
    "ExecuteTime": {
     "end_time": "2023-09-05T11:14:18.836793Z",
     "start_time": "2023-09-05T11:14:18.830834Z"
    }
   }
  },
  {
   "cell_type": "code",
   "execution_count": null,
   "outputs": [],
   "source": [],
   "metadata": {
    "collapsed": false
   }
  }
 ],
 "metadata": {
  "kernelspec": {
   "display_name": "Python 3",
   "language": "python",
   "name": "python3"
  },
  "language_info": {
   "codemirror_mode": {
    "name": "ipython",
    "version": 2
   },
   "file_extension": ".py",
   "mimetype": "text/x-python",
   "name": "python",
   "nbconvert_exporter": "python",
   "pygments_lexer": "ipython2",
   "version": "2.7.6"
  }
 },
 "nbformat": 4,
 "nbformat_minor": 0
}
