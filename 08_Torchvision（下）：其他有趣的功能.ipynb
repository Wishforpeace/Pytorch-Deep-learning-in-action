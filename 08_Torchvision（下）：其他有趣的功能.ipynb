{
 "cells": [
  {
   "cell_type": "code",
   "execution_count": 1,
   "metadata": {
    "collapsed": true,
    "ExecuteTime": {
     "end_time": "2023-09-06T07:13:06.820244Z",
     "start_time": "2023-09-06T07:13:05.163386Z"
    }
   },
   "outputs": [
    {
     "name": "stderr",
     "output_type": "stream",
     "text": [
      "/Users/wuyuxian/anaconda3/envs/AI/lib/python3.8/site-packages/torchvision/models/_utils.py:208: UserWarning: The parameter 'pretrained' is deprecated since 0.13 and may be removed in the future, please use 'weights' instead.\n",
      "  warnings.warn(\n",
      "/Users/wuyuxian/anaconda3/envs/AI/lib/python3.8/site-packages/torchvision/models/_utils.py:223: UserWarning: Arguments other than a weight enum or `None` for 'weights' are deprecated since 0.13 and may be removed in the future. The current behavior is equivalent to passing `weights=GoogLeNet_Weights.IMAGENET1K_V1`. You can also use `weights=GoogLeNet_Weights.DEFAULT` to get the most up-to-date weights.\n",
      "  warnings.warn(msg)\n"
     ]
    }
   ],
   "source": [
    "import torchvision.models as models\n",
    "googlenet = models.googlenet(pretrained=True)\n"
   ]
  },
  {
   "cell_type": "code",
   "execution_count": 2,
   "outputs": [
    {
     "name": "stdout",
     "output_type": "stream",
     "text": [
      "fc_in_features: 1024\n",
      "fc_out_features: 1000\n"
     ]
    },
    {
     "name": "stderr",
     "output_type": "stream",
     "text": [
      "/Users/wuyuxian/anaconda3/envs/AI/lib/python3.8/site-packages/torchvision/models/_utils.py:208: UserWarning: The parameter 'pretrained' is deprecated since 0.13 and may be removed in the future, please use 'weights' instead.\n",
      "  warnings.warn(\n",
      "/Users/wuyuxian/anaconda3/envs/AI/lib/python3.8/site-packages/torchvision/models/_utils.py:223: UserWarning: Arguments other than a weight enum or `None` for 'weights' are deprecated since 0.13 and may be removed in the future. The current behavior is equivalent to passing `weights=GoogLeNet_Weights.IMAGENET1K_V1`. You can also use `weights=GoogLeNet_Weights.DEFAULT` to get the most up-to-date weights.\n",
      "  warnings.warn(msg)\n"
     ]
    }
   ],
   "source": [
    "import torch\n",
    "import torchvision.models as models\n",
    "\n",
    "# 加载预训练模型\n",
    "googlenet = models.googlenet(pretrained=True)\n",
    "\n",
    "# 提取分类层的输入参数\n",
    "fc_in_features = googlenet.fc.in_features\n",
    "print('fc_in_features:',fc_in_features)\n",
    "\n",
    "# 查看分类层的输出参数\n",
    "fc_out_features = googlenet.fc.out_features\n",
    "print('fc_out_features:',fc_out_features)\n",
    "\n",
    "# 修改预训练模型的输出分类数\n",
    "googlenet.fc = torch.nn.Linear(fc_in_features,10)\n"
   ],
   "metadata": {
    "collapsed": false,
    "ExecuteTime": {
     "end_time": "2023-09-06T07:16:52.409119Z",
     "start_time": "2023-09-06T07:16:52.327673Z"
    }
   }
  },
  {
   "cell_type": "markdown",
   "source": [
    "# make_grid 的作用是将若干幅图像拼成在一个网格中\n",
    "`torchvision.utils.make_grid(tensor, nrow=8, padding=2)`"
   ],
   "metadata": {
    "collapsed": false
   }
  },
  {
   "cell_type": "code",
   "execution_count": 3,
   "outputs": [
    {
     "name": "stdout",
     "output_type": "stream",
     "text": [
      "torch.Size([32, 1, 28, 28])\n"
     ]
    }
   ],
   "source": [
    "import torchvision\n",
    "from torchvision import datasets\n",
    "from torchvision import transforms\n",
    "from torch.utils.data import DataLoader\n",
    "\n",
    "# 加载MNIST数据集\n",
    "mnist_dataset = datasets.MNIST(root='./data',\n",
    "                               train=False,\n",
    "                               transform=transforms.ToTensor(),\n",
    "                               target_transform=None,\n",
    "                               download=True)\n",
    "\n",
    "# 取32张图片\n",
    "tensor_dataloader = DataLoader(dataset=mnist_dataset,\n",
    "                               batch_size=32)\n",
    "data_iter = iter(tensor_dataloader)\n",
    "img_tensor ,label_tensor = data_iter.__next__()\n",
    "print(img_tensor.shape)"
   ],
   "metadata": {
    "collapsed": false,
    "ExecuteTime": {
     "end_time": "2023-09-06T07:21:27.581242Z",
     "start_time": "2023-09-06T07:21:27.555738Z"
    }
   }
  },
  {
   "cell_type": "code",
   "execution_count": 6,
   "outputs": [
    {
     "data": {
      "text/plain": "<PIL.Image.Image image mode=RGB size=314x162>",
      "image/png": "[encoded data removed]"
     },
     "metadata": {},
     "output_type": "display_data"
    }
   ],
   "source": [
    "grid_tensor = torchvision.utils.make_grid(img_tensor,nrow=8,padding=10)\n",
    "grid_img = transforms.ToPILImage()(grid_tensor)\n",
    "display(grid_img)"
   ],
   "metadata": {
    "collapsed": false,
    "ExecuteTime": {
     "end_time": "2023-09-06T07:22:56.448173Z",
     "start_time": "2023-09-06T07:22:56.440606Z"
    }
   }
  },
  {
   "cell_type": "code",
   "execution_count": 7,
   "outputs": [],
   "source": [
    "torchvision.utils.save_image(grid_tensor,'grid.jpg')"
   ],
   "metadata": {
    "collapsed": false,
    "ExecuteTime": {
     "end_time": "2023-09-06T07:24:24.814601Z",
     "start_time": "2023-09-06T07:24:24.799627Z"
    }
   }
  },
  {
   "cell_type": "code",
   "execution_count": 8,
   "outputs": [],
   "source": [
    "torchvision.utils.save_image(img_tensor, 'grid2.jpg', nrow=5, padding=2)"
   ],
   "metadata": {
    "collapsed": false,
    "ExecuteTime": {
     "end_time": "2023-09-06T07:24:59.017847Z",
     "start_time": "2023-09-06T07:24:59.008413Z"
    }
   }
  },
  {
   "cell_type": "code",
   "execution_count": null,
   "outputs": [],
   "source": [],
   "metadata": {
    "collapsed": false
   }
  }
 ],
 "metadata": {
  "kernelspec": {
   "display_name": "Python 3",
   "language": "python",
   "name": "python3"
  },
  "language_info": {
   "codemirror_mode": {
    "name": "ipython",
    "version": 2
   },
   "file_extension": ".py",
   "mimetype": "text/x-python",
   "name": "python",
   "nbconvert_exporter": "python",
   "pygments_lexer": "ipython2",
   "version": "2.7.6"
  }
 },
 "nbformat": 4,
 "nbformat_minor": 0
}
