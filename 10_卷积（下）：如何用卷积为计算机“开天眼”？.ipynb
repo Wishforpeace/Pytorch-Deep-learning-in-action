{
 "cells": [
  {
   "cell_type": "markdown",
   "source": [
    "## 深度可分离卷积\n",
    "轻量化模型\n",
    "分为：\n",
    "+ Depthwise和Pointwise"
   ],
   "metadata": {
    "collapsed": false
   },
   "id": "202ee86ad5766d0b"
  },
  {
   "cell_type": "code",
   "execution_count": 1,
   "outputs": [
    {
     "name": "stdout",
     "output_type": "stream",
     "text": [
      "torch.Size([1, 3, 5, 5])\n"
     ]
    }
   ],
   "source": [
    "# DW卷积\n",
    "import torch\n",
    "import torch.nn as nn\n",
    "\n",
    "# 生成一个三通道的5*5特征图\n",
    "x = torch.rand((3,5,5)).unsqueeze(0)\n",
    "print(x.shape)\n",
    "# 输出\n",
    "torch.Size([1,3,5,5])\n",
    "# DW中，输入特征通道和输出通道数一样\n",
    "in_channels_dw = x.shape[1]\n",
    "out_channels_dw = x.shape[1]\n",
    "# 一般来讲DW卷积的kernel size为3\n",
    "kernel_size = 3\n",
    "stride = 1\n",
    "# DW卷积groups参数预输入通道数一样\n",
    "dw = nn.Conv2d(in_channels_dw,out_channels_dw,kernel_size,stride,groups=in_channels_dw)\n"
   ],
   "metadata": {
    "collapsed": false,
    "ExecuteTime": {
     "end_time": "2023-10-03T01:51:51.562235Z",
     "start_time": "2023-10-03T01:51:50.496095Z"
    }
   },
   "id": "22382b0d0d6e518"
  },
  {
   "cell_type": "code",
   "execution_count": 3,
   "outputs": [
    {
     "name": "stdout",
     "output_type": "stream",
     "text": [
      "torch.Size([1, 4, 3, 3])\n"
     ]
    }
   ],
   "source": [
    "in_channels_pw = out_channels_dw\n",
    "out_channels_pw = 4\n",
    "kernel_size_pw = 1\n",
    "pw = nn.Conv2d(in_channels_pw,out_channels_pw,kernel_size_pw,stride)\n",
    "out = pw(dw(x))\n",
    "print(out.shape)"
   ],
   "metadata": {
    "collapsed": false,
    "ExecuteTime": {
     "end_time": "2023-10-03T01:56:44.687066Z",
     "start_time": "2023-10-03T01:56:44.682724Z"
    }
   },
   "id": "252a7068915de409"
  },
  {
   "cell_type": "markdown",
   "source": [
    "## 空洞卷积\n",
    "图像分割任务的目的是为了做到pixel-wise的输出，对于图片的每一个像素点，模型都要进行预测\n",
    "\n",
    "随着卷积层数的加深，感受野会越来越大\n",
    "\n",
    "图像经过了多层的卷积和pooling之后，特征图会变小，为了做到每个像素点都有预测输出，需要对较小的特征图上进行采样和反卷积，将特征图扩大到一定尺度，再进行预测\n",
    "\n",
    "但是较小的特征图恢复成一个较大的特征图，会带来信息损失，空洞卷积就是为了解决这个问题"
   ],
   "metadata": {
    "collapsed": false
   },
   "id": "d5f4d64ad6dc8165"
  }
 ],
 "metadata": {
  "kernelspec": {
   "display_name": "Python 3",
   "language": "python",
   "name": "python3"
  },
  "language_info": {
   "codemirror_mode": {
    "name": "ipython",
    "version": 2
   },
   "file_extension": ".py",
   "mimetype": "text/x-python",
   "name": "python",
   "nbconvert_exporter": "python",
   "pygments_lexer": "ipython2",
   "version": "2.7.6"
  }
 },
 "nbformat": 4,
 "nbformat_minor": 5
}
