{
 "cells": [
  {
   "cell_type": "markdown",
   "source": [
    "## 批量梯度下降法\n",
    "损失函数\n",
    "![image-20231003163713589](https://cdn.jsdelivr.net/gh/Hyeonwuu/Image/image-20231003163713589.png)\n",
    "m表示样本数量\n",
    "对损失函数求偏导\n",
    "![image-20231003170736206](https://cdn.jsdelivr.net/gh/Hyeonwuu/Image/image-20231003170736206.png)\n",
    "\n",
    "得到了$$\\theta$$的梯度之后，按照下降方向更新\n",
    "![image-20231003170822049](https://cdn.jsdelivr.net/gh/Hyeonwuu/Image/image-20231003170822049.png)"
   ],
   "metadata": {
    "collapsed": false
   },
   "id": "8575072dce27a132"
  },
  {
   "cell_type": "markdown",
   "source": [
    "## 随机梯度下降\n",
    "![image-20231003170926291](https://cdn.jsdelivr.net/gh/Hyeonwuu/Image/image-20231003170926291.png)\n",
    "\n",
    "但是容易陷入局部最优"
   ],
   "metadata": {
    "collapsed": false
   },
   "id": "b67403c21d0cbd55"
  },
  {
   "cell_type": "markdown",
   "source": [
    "## 小批量梯度下降"
   ],
   "metadata": {
    "collapsed": false
   },
   "id": "3751181fcb87cc5a"
  },
  {
   "cell_type": "code",
   "execution_count": null,
   "outputs": [],
   "source": [
    "import LeNet #假设的模型\n",
    "import torch.optim as optim\n",
    "import torch.nn as nn\n",
    "# 声明实例子\n",
    "net = LeNet()\n",
    "# 交叉熵损失函数\n",
    "criterion = nn.CrossEntropyLoss()\n",
    "optimizer = optim.SGD(net.parameters(),lr=0.001,momentum=0.9)\n",
    "\n",
    "for epoch in range(30):\n",
    "    \n",
    "    for i, data in enumerate(traindata):\n",
    "        \n",
    "        inputs,labels = data\n",
    "        \n",
    "        optimizer.zero_grad()\n",
    "        outputs = net(inputs)\n",
    "        \n",
    "        loss = criterion(outputs,labels)\n",
    "        \n",
    "        loss.backward()\n",
    "        \n",
    "        optimizer.step()"
   ],
   "metadata": {
    "collapsed": false
   },
   "id": "585f426c93e03496"
  }
 ],
 "metadata": {
  "kernelspec": {
   "display_name": "Python 3",
   "language": "python",
   "name": "python3"
  },
  "language_info": {
   "codemirror_mode": {
    "name": "ipython",
    "version": 2
   },
   "file_extension": ".py",
   "mimetype": "text/x-python",
   "name": "python",
   "nbconvert_exporter": "python",
   "pygments_lexer": "ipython2",
   "version": "2.7.6"
  }
 },
 "nbformat": 4,
 "nbformat_minor": 5
}
